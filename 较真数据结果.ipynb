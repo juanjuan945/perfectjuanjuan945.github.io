{
 "cells": [
  {
   "cell_type": "code",
   "execution_count": 1,
   "id": "ae828482",
   "metadata": {},
   "outputs": [],
   "source": [
    "import requests\n",
    "from bs4 import BeautifulSoup\n",
    "\n",
    "path = 'https://vp.fact.qq.com/loadmore?artnum=0&token=U2FsdGVkX18L1nrnQAplmHwqR8vcx%252FPDALVrfrdJ6aePdAwAU1vRkRE1obtZmd2e&page='\n",
    "url = path + '0'\n",
    "content = requests.get(url)\n",
    "d = content.json()"
   ]
  },
  {
   "cell_type": "code",
   "execution_count": 3,
   "id": "b6ecd534",
   "metadata": {},
   "outputs": [
    {
     "data": {
      "text/plain": [
       "{'title': '新冠口服抗病毒药来了，疫苗不用打了',\n",
       " 'author': '遗传学博士，科普作者，新药研发从业者',\n",
       " 'authordesc': '遗传学博士，科普作者，新药研发从业者',\n",
       " 'id': 'e8b9e0d7775169d5cf45d1c31db707b0',\n",
       " 'date': '2021-10-11',\n",
       " 'markstyle': 'fake',\n",
       " 'result': '假',\n",
       " 'explain': '谣言',\n",
       " 'abstract': '使用方便并能用在感染早期、降低新冠重症风险的口服抗病毒药一度是空白，此类药物的研发对于新冠早期感染后的治疗有重要意义。\\n默克口服抗新冠药在临床试验中显示了良好疗效，将新冠患者住院或死亡风险降低约50%，对新冠突变株也有效，是新冠药物研发的重要突破。\\n口服抗新冠药物会是防疫的重要一环，但不是用来取代疫苗的，而是要与疫苗、非药物防疫措施相配合，才能对疫情防控起到积极作用。',\n",
       " 'tag': ['新冠肺炎', '新型冠状病毒'],\n",
       " 'type': 1,\n",
       " 'videourl': '',\n",
       " 'cover': '//jiaozhen-70111.picnjc.qpic.cn/x9cw3H69xiWypZ2BhW8SPy?imageView2/2/w/150/h/90',\n",
       " 'coverrect': '//jiaozhen-70111.picnjc.qpic.cn/x9cw3H69xiWypZ2BhW8SPy',\n",
       " 'coversqual': '//jiaozhen-70111.picnjc.qpic.cn/x9cw3H69xiWypZ2BhW8SPy?imageView2/2/w/300/h/300',\n",
       " 'section': '',\n",
       " 'iscolled': False,\n",
       " 'arttype': 'normal'}"
      ]
     },
     "execution_count": 3,
     "metadata": {},
     "output_type": "execute_result"
    }
   ],
   "source": [
    "d['content'][0]"
   ]
  },
  {
   "cell_type": "code",
   "execution_count": 4,
   "id": "f168138b",
   "metadata": {},
   "outputs": [
    {
     "name": "stdout",
     "output_type": "stream",
     "text": [
      "0 1 2 3 4 5 6 7 8 9 10 11 12 13 14 15 16 17 18 19 20 21 22 23 24 25 26 27 28 29 30 31 32 33 34 35 36 37 38 39 40 41 42 43 44 45 46 47 48 49 50 51 52 53 54 55 56 57 58 59 60 61 62 63 64 65 66 67 68 69 70 71 72 73 74 75 76 77 78 79\n"
     ]
    }
   ],
   "source": [
    "print(*range(80))"
   ]
  },
  {
   "cell_type": "code",
   "execution_count": 5,
   "id": "1eb37c9d",
   "metadata": {},
   "outputs": [
    {
     "name": "stdout",
     "output_type": "stream",
     "text": [
      "0\n",
      "1\n",
      "2\n",
      "3\n",
      "4\n",
      "5\n",
      "6\n",
      "7\n",
      "8\n",
      "9\n",
      "10\n",
      "11\n",
      "12\n",
      "13\n",
      "14\n",
      "15\n",
      "16\n",
      "17\n",
      "18\n",
      "19\n",
      "20\n",
      "21\n",
      "22\n",
      "23\n",
      "24\n",
      "25\n",
      "26\n",
      "27\n",
      "28\n",
      "29\n",
      "30\n",
      "31\n",
      "32\n",
      "33\n",
      "34\n",
      "35\n",
      "36\n",
      "37\n",
      "38\n",
      "39\n",
      "40\n",
      "41\n",
      "42\n",
      "43\n",
      "44\n",
      "45\n",
      "46\n",
      "47\n",
      "48\n",
      "49\n",
      "50\n",
      "51\n",
      "52\n",
      "53\n",
      "54\n",
      "55\n",
      "56\n",
      "57\n",
      "58\n",
      "59\n",
      "60\n",
      "61\n",
      "62\n",
      "63\n",
      "64\n",
      "65\n",
      "66\n",
      "67\n",
      "68\n",
      "69\n",
      "70\n",
      "71\n",
      "72\n",
      "73\n",
      "74\n",
      "75\n",
      "76\n",
      "77\n",
      "78\n",
      "79\n"
     ]
    }
   ],
   "source": [
    "from time import sleep\n",
    "import random\n",
    "\n",
    "jsons = []\n",
    "for i in range(80):\n",
    "    print(i)\n",
    "    sleep(random.random())\n",
    "    path = 'https://vp.fact.qq.com/loadmore?artnum=0&token=U2FsdGVkX1%252FZyeB53vZL5HFbvYHE9vntj5npKDA7tENrkNIcMXkN5l43QOzq%252BRzl&page='\n",
    "    url = path + str(i)\n",
    "    content = requests.get(url)\n",
    "    d = content.json()\n",
    "    for j in d['content']:\n",
    "        jsons.append(j)"
   ]
  },
  {
   "cell_type": "code",
   "execution_count": 6,
   "id": "993ef8ee",
   "metadata": {},
   "outputs": [
    {
     "data": {
      "text/plain": [
       "794"
      ]
     },
     "execution_count": 6,
     "metadata": {},
     "output_type": "execute_result"
    }
   ],
   "source": [
    "len(jsons)"
   ]
  },
  {
   "cell_type": "code",
   "execution_count": 8,
   "id": "37c87cf9",
   "metadata": {},
   "outputs": [
    {
     "data": {
      "text/html": [
       "<div>\n",
       "<style scoped>\n",
       "    .dataframe tbody tr th:only-of-type {\n",
       "        vertical-align: middle;\n",
       "    }\n",
       "\n",
       "    .dataframe tbody tr th {\n",
       "        vertical-align: top;\n",
       "    }\n",
       "\n",
       "    .dataframe thead th {\n",
       "        text-align: right;\n",
       "    }\n",
       "</style>\n",
       "<table border=\"1\" class=\"dataframe\">\n",
       "  <thead>\n",
       "    <tr style=\"text-align: right;\">\n",
       "      <th></th>\n",
       "      <th>title</th>\n",
       "      <th>author</th>\n",
       "      <th>authordesc</th>\n",
       "      <th>id</th>\n",
       "      <th>date</th>\n",
       "      <th>markstyle</th>\n",
       "      <th>result</th>\n",
       "      <th>explain</th>\n",
       "      <th>abstract</th>\n",
       "      <th>tag</th>\n",
       "      <th>type</th>\n",
       "      <th>videourl</th>\n",
       "      <th>cover</th>\n",
       "      <th>coverrect</th>\n",
       "      <th>coversqual</th>\n",
       "      <th>section</th>\n",
       "      <th>iscolled</th>\n",
       "      <th>arttype</th>\n",
       "    </tr>\n",
       "  </thead>\n",
       "  <tbody>\n",
       "    <tr>\n",
       "      <th>0</th>\n",
       "      <td>新冠口服抗病毒药来了，疫苗不用打了</td>\n",
       "      <td>遗传学博士，科普作者，新药研发从业者</td>\n",
       "      <td>遗传学博士，科普作者，新药研发从业者</td>\n",
       "      <td>e8b9e0d7775169d5cf45d1c31db707b0</td>\n",
       "      <td>2021-10-11</td>\n",
       "      <td>fake</td>\n",
       "      <td>假</td>\n",
       "      <td>谣言</td>\n",
       "      <td>使用方便并能用在感染早期、降低新冠重症风险的口服抗病毒药一度是空白，此类药物的研发对于新冠早...</td>\n",
       "      <td>[新冠肺炎, 新型冠状病毒]</td>\n",
       "      <td>1</td>\n",
       "      <td></td>\n",
       "      <td>//jiaozhen-70111.picnjc.qpic.cn/x9cw3H69xiWypZ...</td>\n",
       "      <td>//jiaozhen-70111.picnjc.qpic.cn/x9cw3H69xiWypZ...</td>\n",
       "      <td>//jiaozhen-70111.picnjc.qpic.cn/x9cw3H69xiWypZ...</td>\n",
       "      <td></td>\n",
       "      <td>False</td>\n",
       "      <td>normal</td>\n",
       "    </tr>\n",
       "    <tr>\n",
       "      <th>1</th>\n",
       "      <td>张文宏：今冬非常严峻！疫情对人类未来影响巨大！</td>\n",
       "      <td>福建日报社东南网承办</td>\n",
       "      <td>福建日报社东南网承办</td>\n",
       "      <td>230c5bf33f1c51dc21bf994f5f818e47</td>\n",
       "      <td>2021-09-26</td>\n",
       "      <td>fake</td>\n",
       "      <td>假</td>\n",
       "      <td>谣言</td>\n",
       "      <td>张文宏教授曾在今年4月接受媒体采访时对该网传消息辟谣，网传文章并非他所说、所写。事实上：张文...</td>\n",
       "      <td>[张文宏, 疫情]</td>\n",
       "      <td>1</td>\n",
       "      <td></td>\n",
       "      <td>//jiaozhen-70111.picnjc.qpic.cn/6C3vD93YwDcmp2...</td>\n",
       "      <td>//jiaozhen-70111.picnjc.qpic.cn/6C3vD93YwDcmp2...</td>\n",
       "      <td>//jiaozhen-70111.picnjc.qpic.cn/6C3vD93YwDcmp2...</td>\n",
       "      <td></td>\n",
       "      <td>False</td>\n",
       "      <td>normal</td>\n",
       "    </tr>\n",
       "    <tr>\n",
       "      <th>2</th>\n",
       "      <td>北京健康宝只能在北京用</td>\n",
       "      <td>北京地区网站联合辟谣平台</td>\n",
       "      <td>北京地区网站联合辟谣平台</td>\n",
       "      <td>82b275ccba95683cb7178f00a5e808b8</td>\n",
       "      <td>2021-09-22</td>\n",
       "      <td>fake</td>\n",
       "      <td>假</td>\n",
       "      <td>谣言</td>\n",
       "      <td>北京健康宝在京外也可正常使用，出现“打不开”的情况，一般是网络方面的问题，比如在商业楼宇、机...</td>\n",
       "      <td>[健康宝, 北京]</td>\n",
       "      <td>1</td>\n",
       "      <td></td>\n",
       "      <td>//jiaozhen-70111.picnjc.qpic.cn/5V45vFj3pvk1T3...</td>\n",
       "      <td>//jiaozhen-70111.picnjc.qpic.cn/5V45vFj3pvk1T3...</td>\n",
       "      <td>//jiaozhen-70111.picnjc.qpic.cn/5V45vFj3pvk1T3...</td>\n",
       "      <td></td>\n",
       "      <td>False</td>\n",
       "      <td>normal</td>\n",
       "    </tr>\n",
       "    <tr>\n",
       "      <th>3</th>\n",
       "      <td>9月12日，钟南山院士到达莆田开展防疫工作</td>\n",
       "      <td>金台资讯</td>\n",
       "      <td>人民网资讯精选官方账号</td>\n",
       "      <td>97097f394e80f908bbf64e49be8212bc</td>\n",
       "      <td>2021-09-19</td>\n",
       "      <td>fake</td>\n",
       "      <td>假</td>\n",
       "      <td>谣言</td>\n",
       "      <td>9月12日，钟南山秘书回应，目前钟南山仍在广东，来闽消息不属实。</td>\n",
       "      <td>[钟南山, 莆田]</td>\n",
       "      <td>1</td>\n",
       "      <td></td>\n",
       "      <td>//jiaozhen-70111.picnjc.qpic.cn/bEZc9MLiujzP9S...</td>\n",
       "      <td>//jiaozhen-70111.picnjc.qpic.cn/bEZc9MLiujzP9S...</td>\n",
       "      <td>//jiaozhen-70111.picnjc.qpic.cn/bEZc9MLiujzP9S...</td>\n",
       "      <td></td>\n",
       "      <td>False</td>\n",
       "      <td>normal</td>\n",
       "    </tr>\n",
       "    <tr>\n",
       "      <th>4</th>\n",
       "      <td>福建仙游警方给确诊人员戴手铐脚镣</td>\n",
       "      <td>共青团北京市委机关报</td>\n",
       "      <td>共青团北京市委机关报</td>\n",
       "      <td>f4fa6b37b9c345712e3b320fb92f60a0</td>\n",
       "      <td>2021-09-19</td>\n",
       "      <td>fake</td>\n",
       "      <td>假</td>\n",
       "      <td>谣言</td>\n",
       "      <td>网传视频系9月11日上午，仙游县看守所将8月26日后收押的来自中高风险区域犯罪嫌疑人分批押解...</td>\n",
       "      <td>[福建, 确诊人员]</td>\n",
       "      <td>1</td>\n",
       "      <td></td>\n",
       "      <td>//jiaozhen-70111.picnjc.qpic.cn/7F1iXdfTUdCepL...</td>\n",
       "      <td>//jiaozhen-70111.picnjc.qpic.cn/7F1iXdfTUdCepL...</td>\n",
       "      <td>//jiaozhen-70111.picnjc.qpic.cn/7F1iXdfTUdCepL...</td>\n",
       "      <td></td>\n",
       "      <td>False</td>\n",
       "      <td>normal</td>\n",
       "    </tr>\n",
       "  </tbody>\n",
       "</table>\n",
       "</div>"
      ],
      "text/plain": [
       "                     title              author          authordesc  \\\n",
       "0        新冠口服抗病毒药来了，疫苗不用打了  遗传学博士，科普作者，新药研发从业者  遗传学博士，科普作者，新药研发从业者   \n",
       "1  张文宏：今冬非常严峻！疫情对人类未来影响巨大！          福建日报社东南网承办          福建日报社东南网承办   \n",
       "2              北京健康宝只能在北京用        北京地区网站联合辟谣平台        北京地区网站联合辟谣平台   \n",
       "3    9月12日，钟南山院士到达莆田开展防疫工作                金台资讯         人民网资讯精选官方账号   \n",
       "4         福建仙游警方给确诊人员戴手铐脚镣          共青团北京市委机关报          共青团北京市委机关报   \n",
       "\n",
       "                                 id        date markstyle result explain  \\\n",
       "0  e8b9e0d7775169d5cf45d1c31db707b0  2021-10-11      fake      假      谣言   \n",
       "1  230c5bf33f1c51dc21bf994f5f818e47  2021-09-26      fake      假      谣言   \n",
       "2  82b275ccba95683cb7178f00a5e808b8  2021-09-22      fake      假      谣言   \n",
       "3  97097f394e80f908bbf64e49be8212bc  2021-09-19      fake      假      谣言   \n",
       "4  f4fa6b37b9c345712e3b320fb92f60a0  2021-09-19      fake      假      谣言   \n",
       "\n",
       "                                            abstract             tag  type  \\\n",
       "0  使用方便并能用在感染早期、降低新冠重症风险的口服抗病毒药一度是空白，此类药物的研发对于新冠早...  [新冠肺炎, 新型冠状病毒]     1   \n",
       "1  张文宏教授曾在今年4月接受媒体采访时对该网传消息辟谣，网传文章并非他所说、所写。事实上：张文...       [张文宏, 疫情]     1   \n",
       "2  北京健康宝在京外也可正常使用，出现“打不开”的情况，一般是网络方面的问题，比如在商业楼宇、机...       [健康宝, 北京]     1   \n",
       "3                   9月12日，钟南山秘书回应，目前钟南山仍在广东，来闽消息不属实。       [钟南山, 莆田]     1   \n",
       "4  网传视频系9月11日上午，仙游县看守所将8月26日后收押的来自中高风险区域犯罪嫌疑人分批押解...      [福建, 确诊人员]     1   \n",
       "\n",
       "  videourl                                              cover  \\\n",
       "0           //jiaozhen-70111.picnjc.qpic.cn/x9cw3H69xiWypZ...   \n",
       "1           //jiaozhen-70111.picnjc.qpic.cn/6C3vD93YwDcmp2...   \n",
       "2           //jiaozhen-70111.picnjc.qpic.cn/5V45vFj3pvk1T3...   \n",
       "3           //jiaozhen-70111.picnjc.qpic.cn/bEZc9MLiujzP9S...   \n",
       "4           //jiaozhen-70111.picnjc.qpic.cn/7F1iXdfTUdCepL...   \n",
       "\n",
       "                                           coverrect  \\\n",
       "0  //jiaozhen-70111.picnjc.qpic.cn/x9cw3H69xiWypZ...   \n",
       "1  //jiaozhen-70111.picnjc.qpic.cn/6C3vD93YwDcmp2...   \n",
       "2  //jiaozhen-70111.picnjc.qpic.cn/5V45vFj3pvk1T3...   \n",
       "3  //jiaozhen-70111.picnjc.qpic.cn/bEZc9MLiujzP9S...   \n",
       "4  //jiaozhen-70111.picnjc.qpic.cn/7F1iXdfTUdCepL...   \n",
       "\n",
       "                                          coversqual section  iscolled arttype  \n",
       "0  //jiaozhen-70111.picnjc.qpic.cn/x9cw3H69xiWypZ...             False  normal  \n",
       "1  //jiaozhen-70111.picnjc.qpic.cn/6C3vD93YwDcmp2...             False  normal  \n",
       "2  //jiaozhen-70111.picnjc.qpic.cn/5V45vFj3pvk1T3...             False  normal  \n",
       "3  //jiaozhen-70111.picnjc.qpic.cn/bEZc9MLiujzP9S...             False  normal  \n",
       "4  //jiaozhen-70111.picnjc.qpic.cn/7F1iXdfTUdCepL...             False  normal  "
      ]
     },
     "execution_count": 8,
     "metadata": {},
     "output_type": "execute_result"
    }
   ],
   "source": [
    "import pandas as pd\n",
    "df = pd.DataFrame(jsons)\n",
    "df.head()"
   ]
  },
  {
   "cell_type": "code",
   "execution_count": 9,
   "id": "abbabd25",
   "metadata": {},
   "outputs": [],
   "source": [
    "df.to_excel('/Users/xuqianyi/Desktop/2021.10-2022 上学期作业/大数据作业/工作簿1.xlsx')"
   ]
  },
  {
   "cell_type": "code",
   "execution_count": 12,
   "id": "6ae3dacd",
   "metadata": {},
   "outputs": [
    {
     "data": {
      "text/plain": [
       "592"
      ]
     },
     "execution_count": 12,
     "metadata": {},
     "output_type": "execute_result"
    }
   ],
   "source": [
    "a=df[(df['result']=='假')]\n",
    "len(a)"
   ]
  },
  {
   "cell_type": "code",
   "execution_count": 13,
   "id": "7a2dcce7",
   "metadata": {},
   "outputs": [
    {
     "data": {
      "text/plain": [
       "71"
      ]
     },
     "execution_count": 13,
     "metadata": {},
     "output_type": "execute_result"
    }
   ],
   "source": [
    "b=df[(df['result']=='真')]\n",
    "len(b)"
   ]
  },
  {
   "cell_type": "code",
   "execution_count": 14,
   "id": "4d8aca8b",
   "metadata": {},
   "outputs": [
    {
     "data": {
      "text/plain": [
       "131"
      ]
     },
     "execution_count": 14,
     "metadata": {},
     "output_type": "execute_result"
    }
   ],
   "source": [
    "c=df[(df['result']=='疑')]\n",
    "len(c)"
   ]
  }
 ],
 "metadata": {
  "kernelspec": {
   "display_name": "Python 3",
   "language": "python",
   "name": "python3"
  },
  "language_info": {
   "codemirror_mode": {
    "name": "ipython",
    "version": 3
   },
   "file_extension": ".py",
   "mimetype": "text/x-python",
   "name": "python",
   "nbconvert_exporter": "python",
   "pygments_lexer": "ipython3",
   "version": "3.8.8"
  }
 },
 "nbformat": 4,
 "nbformat_minor": 5
}
